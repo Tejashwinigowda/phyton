{
 "cells": [
  {
   "cell_type": "code",
   "execution_count": 1,
   "id": "7db6f474",
   "metadata": {},
   "outputs": [
    {
     "name": "stdout",
     "output_type": "stream",
     "text": [
      "what is your name? tejashwini\n",
      "hello tejashwini\n"
     ]
    }
   ],
   "source": [
    "#concatination of strings.\n",
    "name=input(\"what is your name? \")\n",
    "print(\"hello \"+ name)"
   ]
  },
  {
   "cell_type": "code",
   "execution_count": 2,
   "id": "62f8e1b4",
   "metadata": {},
   "outputs": [
    {
     "name": "stdout",
     "output_type": "stream",
     "text": [
      "what is your name? tejashwini\n",
      "which is your favorite color? red\n",
      "tejashwini likes red\n"
     ]
    }
   ],
   "source": [
    "name=input(\"what is your name? \")\n",
    "fav_color=input(\"which is your favorite color? \")\n",
    "print(name +\" likes \"+fav_color)"
   ]
  },
  {
   "cell_type": "markdown",
   "id": "680313fb",
   "metadata": {},
   "source": [
    "name=input(\"what is your name? \")\n"
   ]
  },
  {
   "cell_type": "code",
   "execution_count": 5,
   "id": "d8913a62",
   "metadata": {},
   "outputs": [
    {
     "name": "stdout",
     "output_type": "stream",
     "text": [
      "enter your birth year? 1994\n",
      "<class 'str'>\n",
      "<class 'int'>\n",
      "28\n"
     ]
    }
   ],
   "source": [
    "#type converstion:\n",
    "birth_year=input(\"enter your birth year? \")\n",
    "print(type(birth_year))\n",
    "age=2022-int(birth_year)\n",
    "print(type(age))\n",
    "print(age)"
   ]
  },
  {
   "cell_type": "raw",
   "id": "daa46e4f",
   "metadata": {},
   "source": [
    "#string:\n",
    "course='hello'\n",
    "print(course)"
   ]
  },
  {
   "cell_type": "code",
   "execution_count": 6,
   "id": "112dd015",
   "metadata": {},
   "outputs": [
    {
     "name": "stdout",
     "output_type": "stream",
     "text": [
      "hello\n"
     ]
    }
   ],
   "source": [
    "#string:\n",
    "course='hello'\n",
    "print(course)"
   ]
  },
  {
   "cell_type": "code",
   "execution_count": 7,
   "id": "de3c1685",
   "metadata": {},
   "outputs": [
    {
     "name": "stdout",
     "output_type": "stream",
     "text": [
      "hello teju hoe are you\n"
     ]
    }
   ],
   "source": [
    "course=\"hello teju hoe are you\"\n",
    "print(course)"
   ]
  },
  {
   "cell_type": "code",
   "execution_count": 8,
   "id": "1d8ed7b5",
   "metadata": {},
   "outputs": [
    {
     "ename": "SyntaxError",
     "evalue": "EOL while scanning string literal (4204694460.py, line 1)",
     "output_type": "error",
     "traceback": [
      "\u001b[1;36m  File \u001b[1;32m\"C:\\Users\\LENOVO\\AppData\\Local\\Temp\\ipykernel_6372\\4204694460.py\"\u001b[1;36m, line \u001b[1;32m1\u001b[0m\n\u001b[1;33m    course=\" '\u001b[0m\n\u001b[1;37m              ^\u001b[0m\n\u001b[1;31mSyntaxError\u001b[0m\u001b[1;31m:\u001b[0m EOL while scanning string literal\n"
     ]
    }
   ],
   "source": [
    "course=\" '\n",
    "hkcvjcxjv\n",
    "jcvhjvj\n",
    "bdfdsjf\n",
    "hfdsf'\"\n",
    "print(course)"
   ]
  },
  {
   "cell_type": "code",
   "execution_count": null,
   "id": "02c1d4ed",
   "metadata": {},
   "outputs": [],
   "source": []
  },
  {
   "cell_type": "code",
   "execution_count": 9,
   "id": "21b3c8da",
   "metadata": {},
   "outputs": [
    {
     "name": "stdout",
     "output_type": "stream",
     "text": [
      "\n",
      "hkcvjcxjv\n",
      "jcvhjvj\n",
      "bdfdsjf\n",
      "hfdsf\n"
     ]
    }
   ],
   "source": [
    "course='''\n",
    "hkcvjcxjv\n",
    "jcvhjvj\n",
    "bdfdsjf\n",
    "hfdsf'''\n",
    "print(course)"
   ]
  },
  {
   "cell_type": "code",
   "execution_count": 10,
   "id": "187c5614",
   "metadata": {},
   "outputs": [
    {
     "name": "stdout",
     "output_type": "stream",
     "text": [
      "\n",
      "gxjz\n",
      "hbha\n",
      "asj\n",
      "ssgsa\n"
     ]
    }
   ],
   "source": [
    "course='''\n",
    "gxjz\n",
    "hbha\n",
    "asj\n",
    "ssgsa'''\n",
    "print(course)"
   ]
  },
  {
   "cell_type": "code",
   "execution_count": 11,
   "id": "e19ff2e0",
   "metadata": {},
   "outputs": [
    {
     "name": "stdout",
     "output_type": "stream",
     "text": [
      "p\n"
     ]
    }
   ],
   "source": [
    "course=\"python is programming language\"\n",
    "print(course[0])"
   ]
  },
  {
   "cell_type": "code",
   "execution_count": null,
   "id": "2030ac50",
   "metadata": {},
   "outputs": [],
   "source": []
  },
  {
   "cell_type": "code",
   "execution_count": 12,
   "id": "9a7146cc",
   "metadata": {},
   "outputs": [
    {
     "name": "stdout",
     "output_type": "stream",
     "text": [
      "g\n"
     ]
    }
   ],
   "source": [
    "course=\"python is programming language\"\n",
    "print(course[-5])"
   ]
  },
  {
   "cell_type": "code",
   "execution_count": null,
   "id": "f85d8495",
   "metadata": {},
   "outputs": [],
   "source": []
  },
  {
   "cell_type": "code",
   "execution_count": null,
   "id": "f4eb7e63",
   "metadata": {},
   "outputs": [],
   "source": []
  }
 ],
 "metadata": {
  "kernelspec": {
   "display_name": "Python 3 (ipykernel)",
   "language": "python",
   "name": "python3"
  },
  "language_info": {
   "codemirror_mode": {
    "name": "ipython",
    "version": 3
   },
   "file_extension": ".py",
   "mimetype": "text/x-python",
   "name": "python",
   "nbconvert_exporter": "python",
   "pygments_lexer": "ipython3",
   "version": "3.7.4"
  }
 },
 "nbformat": 4,
 "nbformat_minor": 5
}
