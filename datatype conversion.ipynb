{
 "cells": [
  {
   "cell_type": "code",
   "execution_count": 1,
   "id": "9b81f02d",
   "metadata": {},
   "outputs": [
    {
     "name": "stdout",
     "output_type": "stream",
     "text": [
      "30\n",
      "<class 'int'>\n",
      "<class 'float'>\n",
      "30.0\n"
     ]
    }
   ],
   "source": [
    "#conversion\n",
    "#intto float\n",
    "a=10\n",
    "b=20\n",
    "c=a+b\n",
    "print(c)\n",
    "print(type(c))\n",
    "c1=float(c)\n",
    "print(type(c1))\n",
    "print(c1)"
   ]
  },
  {
   "cell_type": "code",
   "execution_count": 4,
   "id": "0f9f2e0b",
   "metadata": {},
   "outputs": [
    {
     "name": "stdout",
     "output_type": "stream",
     "text": [
      "<class 'int'>\n",
      "900\n",
      "True\n",
      "<class 'bool'>\n"
     ]
    }
   ],
   "source": [
    "#int to bool\n",
    "a=10\n",
    "b=90\n",
    "c=a*b\n",
    "print(type(c))\n",
    "print(c)\n",
    "c2=bool(c)\n",
    "print(c2)\n",
    "print(type(c2))\n"
   ]
  },
  {
   "cell_type": "code",
   "execution_count": 5,
   "id": "239159e7",
   "metadata": {},
   "outputs": [
    {
     "name": "stdout",
     "output_type": "stream",
     "text": [
      "0.2\n",
      "<class 'float'>\n",
      "0.2\n",
      "<class 'str'>\n"
     ]
    }
   ],
   "source": [
    "#int to str\n",
    "a=2\n",
    "b=10\n",
    "c=a/b\n",
    "print(c)\n",
    "print(type(c))\n",
    "div=str(c)\n",
    "print(div)\n",
    "print(type(div))"
   ]
  },
  {
   "cell_type": "code",
   "execution_count": 7,
   "id": "d5b0e76d",
   "metadata": {},
   "outputs": [
    {
     "name": "stdout",
     "output_type": "stream",
     "text": [
      "10.3\n",
      "<class 'float'>\n",
      "<class 'int'>\n",
      "10\n"
     ]
    }
   ],
   "source": [
    "#float to int\n",
    "v1=2.5\n",
    "v2=7.8\n",
    "v3=v1+v2\n",
    "print(v3)\n",
    "print(type(v3))\n",
    "v4=int(v3)\n",
    "print(type(v4))\n",
    "print(v4)"
   ]
  },
  {
   "cell_type": "code",
   "execution_count": 8,
   "id": "f690d190",
   "metadata": {},
   "outputs": [
    {
     "name": "stdout",
     "output_type": "stream",
     "text": [
      "10.379999999999999\n",
      "<class 'float'>\n",
      "<class 'bool'>\n",
      "True\n"
     ]
    }
   ],
   "source": [
    "#float to bool\n",
    "v1=2.57\n",
    "v2=7.81\n",
    "v3=v1+v2\n",
    "print(v3)\n",
    "print(type(v3))\n",
    "v4=bool(v3)\n",
    "print(type(v4))\n",
    "print(v4)\n",
    "\n"
   ]
  },
  {
   "cell_type": "code",
   "execution_count": 9,
   "id": "bf8e84b5",
   "metadata": {},
   "outputs": [
    {
     "name": "stdout",
     "output_type": "stream",
     "text": [
      "14.600000000000001\n",
      "<class 'float'>\n",
      "<class 'str'>\n",
      "14.600000000000001\n"
     ]
    }
   ],
   "source": [
    "#float to str\n",
    "v1=5.7\n",
    "v2=8.9\n",
    "v3=v1+v2\n",
    "print(v3)\n",
    "print(type(v3))\n",
    "v4=str(v3)\n",
    "print(type(v4))\n",
    "print(v4)"
   ]
  },
  {
   "cell_type": "code",
   "execution_count": 6,
   "id": "8365106c",
   "metadata": {},
   "outputs": [
    {
     "name": "stdout",
     "output_type": "stream",
     "text": [
      "enter the string? chumanth\n",
      "a\n"
     ]
    }
   ],
   "source": [
    "val=input(\"enter the string? \")\n",
    "a=len(val)\n",
    "b=int(a/2)\n",
    "print(val[b)"
   ]
  },
  {
   "cell_type": "code",
   "execution_count": null,
   "id": "11736a40",
   "metadata": {},
   "outputs": [],
   "source": []
  },
  {
   "cell_type": "code",
   "execution_count": null,
   "id": "5df8684d",
   "metadata": {},
   "outputs": [],
   "source": []
  }
 ],
 "metadata": {
  "kernelspec": {
   "display_name": "Python 3 (ipykernel)",
   "language": "python",
   "name": "python3"
  },
  "language_info": {
   "codemirror_mode": {
    "name": "ipython",
    "version": 3
   },
   "file_extension": ".py",
   "mimetype": "text/x-python",
   "name": "python",
   "nbconvert_exporter": "python",
   "pygments_lexer": "ipython3",
   "version": "3.7.4"
  }
 },
 "nbformat": 4,
 "nbformat_minor": 5
}
