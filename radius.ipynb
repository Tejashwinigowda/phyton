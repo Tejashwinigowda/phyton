{
 "cells": [
  {
   "cell_type": "code",
   "execution_count": 1,
   "id": "d8568c42",
   "metadata": {},
   "outputs": [
    {
     "name": "stdout",
     "output_type": "stream",
     "text": [
      "64.056\n"
     ]
    }
   ],
   "source": [
    "#write a program to calculate perimeter of the circle with radius 10.2\n",
    "pi=3.14\n",
    "radius=10.2\n",
    "perimeter=2*pi*radius\n",
    "print(perimeter)"
   ]
  },
  {
   "cell_type": "code",
   "execution_count": 2,
   "id": "25dc336c",
   "metadata": {},
   "outputs": [
    {
     "name": "stdout",
     "output_type": "stream",
     "text": [
      "enter the area of circle 5\n",
      "78.5\n"
     ]
    }
   ],
   "source": [
    "#write a program to calculate area of the circle with radius(float)\n",
    "pi=3.14\n",
    "radius=float(input(\"enter the area of circle \"))\n",
    "area=pi*radius*radius\n",
    "print(area)"
   ]
  },
  {
   "cell_type": "code",
   "execution_count": 3,
   "id": "3b41cb72",
   "metadata": {},
   "outputs": [
    {
     "name": "stdout",
     "output_type": "stream",
     "text": [
      "enter perimeter value 7.8\n",
      "48.984\n"
     ]
    }
   ],
   "source": [
    "#write a program to calculate perimeter of the circle with radius(float)\n",
    "pi=3.14\n",
    "radius=float(input(\"enter perimeter value \"))\n",
    "perimeter=2*pi*radius\n",
    "print(perimeter)"
   ]
  },
  {
   "cell_type": "code",
   "execution_count": 4,
   "id": "19707baa",
   "metadata": {},
   "outputs": [
    {
     "name": "stdout",
     "output_type": "stream",
     "text": [
      "enter radius? 5\n",
      "eneter height? 7\n",
      "5\n",
      "7\n"
     ]
    }
   ],
   "source": [
    "#collect radius and height from user\n",
    "radius=int(input(\"enter radius? \"))\n",
    "height=int(input(\"eneter height? \"))\n",
    "print(radius)\n",
    "print(height)"
   ]
  },
  {
   "cell_type": "code",
   "execution_count": 5,
   "id": "bbb7f099",
   "metadata": {},
   "outputs": [
    {
     "name": "stdout",
     "output_type": "stream",
     "text": [
      "enter radius? 6\n",
      "enter height? 7\n",
      "261.1224\n"
     ]
    }
   ],
   "source": [
    "#write a program to calculate area of a cone:\n",
    "pi=3.14\n",
    "radius=int(input(\"enter radius? \"))\n",
    "height=int(input(\"enter height? \"))\n",
    "cone=0.33*pi*radius*radius*height\n",
    "print(cone)"
   ]
  },
  {
   "cell_type": "code",
   "execution_count": null,
   "id": "2fecfcaf",
   "metadata": {},
   "outputs": [],
   "source": [
    "int to float/bool/str\n"
   ]
  }
 ],
 "metadata": {
  "kernelspec": {
   "display_name": "Python 3 (ipykernel)",
   "language": "python",
   "name": "python3"
  },
  "language_info": {
   "codemirror_mode": {
    "name": "ipython",
    "version": 3
   },
   "file_extension": ".py",
   "mimetype": "text/x-python",
   "name": "python",
   "nbconvert_exporter": "python",
   "pygments_lexer": "ipython3",
   "version": "3.7.4"
  }
 },
 "nbformat": 4,
 "nbformat_minor": 5
}
