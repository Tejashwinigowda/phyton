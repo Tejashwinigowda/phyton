{
 "cells": [
  {
   "cell_type": "code",
   "execution_count": 28,
   "id": "d854f757",
   "metadata": {},
   "outputs": [
    {
     "name": "stdout",
     "output_type": "stream",
     "text": [
      "[]\n"
     ]
    }
   ],
   "source": [
    "# P1: Create an empty list (two ways)\n",
    "List = [1,2,6,8,9]\n",
    "List.clear()\n",
    "print(List)"
   ]
  },
  {
   "cell_type": "code",
   "execution_count": 3,
   "id": "0b51f209",
   "metadata": {},
   "outputs": [
    {
     "name": "stdout",
     "output_type": "stream",
     "text": [
      "the concatenation oftwo string is[1, 2, 3, 4, 5, 6, 7, 8]\n"
     ]
    }
   ],
   "source": [
    "# P2: Concatenate with [5,6,7,8]\n",
    "list1=[1,2,3,4]\n",
    "list2=[5,6,7,8]\n",
    "print(f\"the concatenation oftwo string is{list1+list2}\")"
   ]
  },
  {
   "cell_type": "code",
   "execution_count": 4,
   "id": "ce4cbda5",
   "metadata": {},
   "outputs": [
    {
     "name": "stdout",
     "output_type": "stream",
     "text": [
      "the sum of the list=45\n"
     ]
    }
   ],
   "source": [
    "# P3: write a program to add 8,9,1,5,6,7,8,1 elements to that list\n",
    "list=[8,9,1,5,6,7,8,1]\n",
    "print(f\"the sum of the list={sum(list)}\")"
   ]
  },
  {
   "cell_type": "code",
   "execution_count": 5,
   "id": "c051d0eb",
   "metadata": {},
   "outputs": [
    {
     "name": "stdout",
     "output_type": "stream",
     "text": [
      "the frequency of number=3\n"
     ]
    }
   ],
   "source": [
    "# P4: Find frequency of 8 (count)\n",
    "list=[1,3,5,7,8,9,8,4,5,7,8]\n",
    "print(f\"the frequency of number={list.count(8)}\")\n"
   ]
  },
  {
   "cell_type": "code",
   "execution_count": 12,
   "id": "a1fe110b",
   "metadata": {},
   "outputs": [
    {
     "name": "stdout",
     "output_type": "stream",
     "text": [
      "the sum of list=105\n",
      "the length of list=7\n",
      "the mean value=15.0\n"
     ]
    }
   ],
   "source": [
    "#p5: find the mean of the list\n",
    "list=[3,5,6,7,8,9,67]\n",
    "add=sum(list)\n",
    "print(f\"the sum of list={add}\")\n",
    "length=(len(list))\n",
    "print(f\"the length of list={length}\")\n",
    "total=(add/length)\n",
    "print(f\"the mean value={total}\")\n"
   ]
  },
  {
   "cell_type": "code",
   "execution_count": 18,
   "id": "042ffecb",
   "metadata": {},
   "outputs": [
    {
     "name": "stdout",
     "output_type": "stream",
     "text": [
      "the sum=391\n",
      "the minimum value=56\n",
      "the maximum value=97\n"
     ]
    }
   ],
   "source": [
    "#p6: find sum (List) + min + Max \n",
    "list=[89,97,89,60,56]\n",
    "total=sum(list)\n",
    "print(f\"the sum={total}\")\n",
    "minimum=min(list)\n",
    "print(f\"the minimum value={minimum}\")\n",
    "maximum=max(list)\n",
    "print(f\"the maximum value={maximum}\")"
   ]
  },
  {
   "cell_type": "code",
   "execution_count": 4,
   "id": "2465f2ec",
   "metadata": {},
   "outputs": [
    {
     "name": "stdout",
     "output_type": "stream",
     "text": [
      "[3, 4, 5, 6, 7, 8]\n",
      "the median is 5.5\n"
     ]
    }
   ],
   "source": [
    "#p7: Find median of the list\n",
    "list=[4,5,6,7,3,8]\n",
    "list.sort()\n",
    "print(list)\n",
    "mid=(len(list)//2)\n",
    "#the list is even\n",
    "median=(list[mid-1]+list[mid])/2\n",
    "print(\"the median is\",median)\n",
    "\n"
   ]
  },
  {
   "cell_type": "code",
   "execution_count": 27,
   "id": "e641d789",
   "metadata": {},
   "outputs": [
    {
     "name": "stdout",
     "output_type": "stream",
     "text": [
      "{1, 2, 3, 4, 5, 6}\n"
     ]
    }
   ],
   "source": [
    "#p8: remove duplicates from list and give output in the format of tuple\n",
    "my_list=[1,1,2,3,2,2,4,5,6,2,1]\n",
    "my_final_list=set(my_list)\n",
    "print(my_final_list)\n"
   ]
  },
  {
   "cell_type": "code",
   "execution_count": null,
   "id": "aacd1e9e",
   "metadata": {},
   "outputs": [],
   "source": []
  }
 ],
 "metadata": {
  "kernelspec": {
   "display_name": "Python 3 (ipykernel)",
   "language": "python",
   "name": "python3"
  },
  "language_info": {
   "codemirror_mode": {
    "name": "ipython",
    "version": 3
   },
   "file_extension": ".py",
   "mimetype": "text/x-python",
   "name": "python",
   "nbconvert_exporter": "python",
   "pygments_lexer": "ipython3",
   "version": "3.7.4"
  }
 },
 "nbformat": 4,
 "nbformat_minor": 5
}
