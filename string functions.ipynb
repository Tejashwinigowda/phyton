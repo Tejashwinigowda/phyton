{
 "cells": [
  {
   "cell_type": "code",
   "execution_count": 1,
   "id": "5ab58026",
   "metadata": {},
   "outputs": [
    {
     "name": "stdout",
     "output_type": "stream",
     "text": [
      "enter the string? tejashwini\n",
      "the length of the string= h\n"
     ]
    }
   ],
   "source": [
    "#task 1:\n",
    "#write a program to find out middle of the string\n",
    "val=input(\"enter the string? \")\n",
    "a=len(val)\n",
    "b=int(a/2)\n",
    "print(\"the length of the string=\",val[b])"
   ]
  },
  {
   "cell_type": "code",
   "execution_count": 1,
   "id": "b7faeaa5",
   "metadata": {},
   "outputs": [
    {
     "name": "stdout",
     "output_type": "stream",
     "text": [
      "python*******\n",
      "**********webprogramming\n",
      "java\n"
     ]
    }
   ],
   "source": [
    "#task 2:\n",
    "#write a program to find out all the strips\n",
    "a=\"******python*******\"\n",
    "a1=\"**********webprogramming************\"\n",
    "a2=\"****java**********\"\n",
    "a=print(a.lstrip(\"*\"))\n",
    "b=print(a1.rstrip(\"*\"))\n",
    "c=print(a2.strip(\"*\"))"
   ]
  },
  {
   "cell_type": "code",
   "execution_count": 6,
   "id": "a4f070db",
   "metadata": {},
   "outputs": [
    {
     "name": "stdout",
     "output_type": "stream",
     "text": [
      "10.30+12.19+20.20is::42.69\n"
     ]
    }
   ],
   "source": [
    "#task3:\n",
    "#WAP to apply split method and add all the terms\n",
    "string1=\"ravi 10.30\"  \n",
    "string2=\"meghala 12.19\"\n",
    "string3=\"Gokul 20.20\"\n",
    "x=string1.split()\n",
    "y=string2.split()\n",
    "z=string3.split()\n",
    "print(\"{}+{}+{}\".format(x[1],y[1],z[1]),end=\"is::\")\n",
    "print(float(x[1])+float(y[1])+float(z[1]))\n"
   ]
  },
  {
   "cell_type": "code",
   "execution_count": 31,
   "id": "7b5eb9e6",
   "metadata": {},
   "outputs": [
    {
     "name": "stdout",
     "output_type": "stream",
     "text": [
      "jythonpav 6 4\n"
     ]
    }
   ],
   "source": [
    "#task4:\n",
    "#WAP collect the string from user and combine it \n",
    "val1=\"python\"\n",
    "val2=\"java\"\n",
    "print(val2[0]+val1[1:6]+val1[0]+val2[1:3],(len(val1)),len(val2))"
   ]
  },
  {
   "cell_type": "code",
   "execution_count": 35,
   "id": "8d967a7f",
   "metadata": {},
   "outputs": [
    {
     "name": "stdout",
     "output_type": "stream",
     "text": [
      "sathsmcience 5 7\n"
     ]
    }
   ],
   "source": [
    "\n",
    "val1=\"maths\"\n",
    "val2=\"science\"\n",
    "print(val2[0]+val1[1:5]+val1[0]+val2[1:7],(len(val1)),len(val2))"
   ]
  },
  {
   "cell_type": "code",
   "execution_count": 52,
   "id": "e3baa80c",
   "metadata": {},
   "outputs": [
    {
     "name": "stdout",
     "output_type": "stream",
     "text": [
      "112\n",
      "99\n",
      "211\n"
     ]
    }
   ],
   "source": [
    "#TASk5\n",
    "#WAP TO FIND OUT ASCII VALUE OF THE CHARACTER\n",
    "c='p'\n",
    "d='c'\n",
    "print(ord(c))\n",
    "print(ord(d))\n",
    "print(ord(c)+ord(d))"
   ]
  },
  {
   "cell_type": "code",
   "execution_count": 2,
   "id": "8029d894",
   "metadata": {},
   "outputs": [
    {
     "name": "stdout",
     "output_type": "stream",
     "text": [
      "enter the string? computer\n",
      "computer\n",
      "8\n",
      "c6r\n"
     ]
    }
   ],
   "source": [
    "#task6\n",
    "#WAP to find out frst and last character with remaining length of the string\n",
    "str=input(\"enter the string? \")\n",
    "print(str)\n",
    "res=len(str)\n",
    "print(res)\n",
    "print(f\"{str[0]}{len(str[1:res-1])}{str[res-1]}\")"
   ]
  },
  {
   "cell_type": "code",
   "execution_count": 2,
   "id": "fee0227c",
   "metadata": {},
   "outputs": [
    {
     "name": "stdout",
     "output_type": "stream",
     "text": [
      "Hello, World!\n"
     ]
    }
   ],
   "source": [
    "#task7:say hello word with python:\n",
    "my_string = \"Hello, World!\"\n",
    "print(my_string)"
   ]
  },
  {
   "cell_type": "code",
   "execution_count": 3,
   "id": "552131a7",
   "metadata": {},
   "outputs": [
    {
     "name": "stdout",
     "output_type": "stream",
     "text": [
      "hELLO, wORLD!\n"
     ]
    }
   ],
   "source": [
    "#task8: swap case\n",
    "print(my_string.swapcase())"
   ]
  },
  {
   "cell_type": "code",
   "execution_count": 4,
   "id": "6f1a92a4",
   "metadata": {},
   "outputs": [
    {
     "name": "stdout",
     "output_type": "stream",
     "text": [
      "enter the first nameteju\n",
      "enter the second nameashwini\n",
      "hello teju and ashwini! you just developed into python\n"
     ]
    }
   ],
   "source": [
    "#task9:what is your name\n",
    "name1=input(\"enter the first name\")\n",
    "name2=input(\"enter the second name\")\n",
    "print(f\"hello {name1} and {name2}! you just developed into python\")"
   ]
  },
  {
   "cell_type": "code",
   "execution_count": 2,
   "id": "876d2baf",
   "metadata": {},
   "outputs": [
    {
     "name": "stdout",
     "output_type": "stream",
     "text": [
      "the mutation of a string is calktta\n"
     ]
    }
   ],
   "source": [
    "#task 10 : mutation\n",
    "string=\"calcutta\"\n",
    "string = string[:3] + \"k\" +string[5:]\n",
    "#string=\"abracadabra\"\n",
    "#string=string[:5] + \"k\" +string[6:]\n",
    "print(f\"the mutation of a string is {string}\")\n"
   ]
  },
  {
   "cell_type": "code",
   "execution_count": 3,
   "id": "ad10fe30",
   "metadata": {},
   "outputs": [
    {
     "name": "stdout",
     "output_type": "stream",
     "text": [
      "enter num1? 78\n",
      "enter num2? 89\n",
      "167\n",
      "-11\n",
      "6942\n"
     ]
    }
   ],
   "source": [
    "#task 11:arithematic operator\n",
    "a=int(input(\"enter num1? \"))\n",
    "b=int(input(\"enter num2? \"))\n",
    "c=a+b\n",
    "print(c)\n",
    "c=a-b\n",
    "print(c)\n",
    "c=a*b\n",
    "print(c)"
   ]
  },
  {
   "cell_type": "code",
   "execution_count": 8,
   "id": "93effcb1",
   "metadata": {},
   "outputs": [
    {
     "name": "stdout",
     "output_type": "stream",
     "text": [
      "enter num1? 9\n",
      "enter num2? 5\n",
      "1.8\n",
      "1\n"
     ]
    }
   ],
   "source": [
    "#task12: python division\n",
    "a=int(input(\"enter num1? \"))\n",
    "b=int(input(\"enter num2? \"))\n",
    "c=a/b\n",
    "print(c)\n",
    "c=a//b\n",
    "print(c)\n",
    "\n"
   ]
  },
  {
   "cell_type": "code",
   "execution_count": null,
   "id": "ab1902dc",
   "metadata": {},
   "outputs": [],
   "source": []
  },
  {
   "cell_type": "code",
   "execution_count": null,
   "id": "0c7fbb68",
   "metadata": {},
   "outputs": [],
   "source": []
  },
  {
   "cell_type": "code",
   "execution_count": null,
   "id": "2991491a",
   "metadata": {},
   "outputs": [],
   "source": []
  }
 ],
 "metadata": {
  "kernelspec": {
   "display_name": "Python 3 (ipykernel)",
   "language": "python",
   "name": "python3"
  },
  "language_info": {
   "codemirror_mode": {
    "name": "ipython",
    "version": 3
   },
   "file_extension": ".py",
   "mimetype": "text/x-python",
   "name": "python",
   "nbconvert_exporter": "python",
   "pygments_lexer": "ipython3",
   "version": "3.7.4"
  }
 },
 "nbformat": 4,
 "nbformat_minor": 5
}
