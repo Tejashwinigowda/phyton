{
 "cells": [
  {
   "cell_type": "code",
   "execution_count": 3,
   "id": "30c7eaaf",
   "metadata": {},
   "outputs": [
    {
     "name": "stdout",
     "output_type": "stream",
     "text": [
      "enter the string? tejashwini\n",
      "the length of the string= h\n"
     ]
    }
   ],
   "source": [
    "#program to find out length of the string\n",
    "val=input(\"enter the string? \")\n",
    "a=len(val)\n",
    "b=int(a/2)\n",
    "print(\"the length of the string=\",val[b])"
   ]
  },
  {
   "cell_type": "code",
   "execution_count": 7,
   "id": "c34cbe54",
   "metadata": {},
   "outputs": [
    {
     "name": "stdout",
     "output_type": "stream",
     "text": [
      "th\n",
      "n_\n",
      "pyth\n",
      "on_pro\n",
      "pytho\n",
      "on_program\n",
      "python_program\n",
      "\n"
     ]
    }
   ],
   "source": [
    "#string slicing\n",
    "val=\"python_program\"\n",
    "print(val[2:4])\n",
    "print(val[5:7])\n",
    "print(val[0:4])\n",
    "print(val[4:-4])\n",
    "print(val[:5])\n",
    "print(val[4:])\n",
    "print(val[:])\n",
    "print(val[9:7])"
   ]
  },
  {
   "cell_type": "code",
   "execution_count": null,
   "id": "39172b58",
   "metadata": {},
   "outputs": [],
   "source": []
  }
 ],
 "metadata": {
  "kernelspec": {
   "display_name": "Python 3 (ipykernel)",
   "language": "python",
   "name": "python3"
  },
  "language_info": {
   "codemirror_mode": {
    "name": "ipython",
    "version": 3
   },
   "file_extension": ".py",
   "mimetype": "text/x-python",
   "name": "python",
   "nbconvert_exporter": "python",
   "pygments_lexer": "ipython3",
   "version": "3.7.4"
  }
 },
 "nbformat": 4,
 "nbformat_minor": 5
}
