{
 "cells": [
  {
   "cell_type": "code",
   "execution_count": 3,
   "id": "5c072822",
   "metadata": {},
   "outputs": [
    {
     "name": "stdout",
     "output_type": "stream",
     "text": [
      "enter the string? tejashwini\n",
      "the length of the string= h\n"
     ]
    }
   ],
   "source": [
    "#program to find out length of the string\n",
    "val=input(\"enter the string? \")\n",
    "a=len(val)\n",
    "b=int(a/2)\n",
    "print(\"the length of the string=\",val[b])"
   ]
  },
  {
   "cell_type": "code",
   "execution_count": 7,
   "id": "5e5b9355",
   "metadata": {},
   "outputs": [
    {
     "name": "stdout",
     "output_type": "stream",
     "text": [
      "th\n",
      "n_\n",
      "pyth\n",
      "on_pro\n",
      "pytho\n",
      "on_program\n",
      "python_program\n",
      "\n"
     ]
    }
   ],
   "source": [
    "#string slicing\n",
    "val=\"python_program\"\n",
    "print(val[2:4])\n",
    "print(val[5:7])\n",
    "print(val[0:4])\n",
    "print(val[4:-4])\n",
    "print(val[:5])\n",
    "print(val[4:])\n",
    "print(val[:])\n",
    "print(val[9:7])"
   ]
  },
  {
   "cell_type": "code",
   "execution_count": 6,
   "id": "cfc34337",
   "metadata": {},
   "outputs": [
    {
     "name": "stdout",
     "output_type": "stream",
     "text": [
      "puter_s\n",
      "mpu\n",
      "computer_s\n",
      "ter_sc\n",
      "mputer\n",
      "computer\n",
      "ter_science\n",
      "_sci\n",
      "computer_science\n",
      "\n",
      "ormatio\n",
      "for\n",
      "informatio\n",
      "mation_techn\n",
      "format\n",
      "informat\n",
      "mation_technology\n",
      "ion_\n",
      "information_technology\n",
      "\n"
     ]
    },
    {
     "data": {
      "text/plain": [
       "Ellipsis"
      ]
     },
     "execution_count": 6,
     "metadata": {},
     "output_type": "execute_result"
    }
   ],
   "source": [
    "#string slicing :type1:\n",
    "val=\"computer_science\"\n",
    "print(val[3:10])\n",
    "print(val[2:5])\n",
    "print(val[0:10])\n",
    "print(val[5:-5])\n",
    "print(val[2:8])\n",
    "print(val[:8])\n",
    "print(val[5:])\n",
    "print(val[8:12])\n",
    "print(val[:])\n",
    "print(val[12:5])\n",
    "val=\"information_technology\"\n",
    "print(val[3:10])\n",
    "print(val[2:5])\n",
    "print(val[0:10])\n",
    "print(val[5:-5])\n",
    "print(val[2:8])\n",
    "print(val[:8])\n",
    "print(val[5:])\n",
    "print(val[8:12])\n",
    "print(val[:])\n",
    "print(val[12:5])\n",
    "\n",
    "        \n",
    "        "
   ]
  },
  {
   "cell_type": "code",
   "execution_count": 7,
   "id": "f967ef4f",
   "metadata": {},
   "outputs": [
    {
     "name": "stdout",
     "output_type": "stream",
     "text": [
      "puter_s\n",
      "ptrs\n",
      "pes\n",
      "ter_sc\n",
      "trs\n",
      "tc\n",
      "cu\n",
      "t_ic\n",
      "cmue_cec\n",
      "\n"
     ]
    }
   ],
   "source": [
    " #string slicing:type2:\n",
    "val=\"computer_science\"\n",
    "print(val[3:10:1])\n",
    "print(val[3:10:2])\n",
    "print(val[3:10:3])\n",
    "print(val[5:-5:1])\n",
    "print(val[5:-5:2])\n",
    "print(val[5:-5:5])\n",
    "print(val[:8:4])\n",
    "print(val[5::3])\n",
    "print(val[::2])\n",
    "print(val[12:5:3])"
   ]
  },
  {
   "cell_type": "code",
   "execution_count": 8,
   "id": "8a4926ce",
   "metadata": {},
   "outputs": [
    {
     "name": "stdout",
     "output_type": "stream",
     "text": [
      "ormatio\n",
      "omto\n",
      "oao\n",
      "mation_techn\n",
      "mto_eh\n",
      "mnh\n",
      "ir\n",
      "mi_cog\n",
      "ifraintcnlg\n",
      "\n"
     ]
    }
   ],
   "source": [
    "val=\"information_technology\"\n",
    "print(val[3:10:1])\n",
    "print(val[3:10:2])\n",
    "print(val[3:10:3])\n",
    "print(val[5:-5:1])\n",
    "print(val[5:-5:2])\n",
    "print(val[5:-5:5])\n",
    "print(val[:8:4])\n",
    "print(val[5::3])\n",
    "print(val[::2])\n",
    "print(val[12:5:3])"
   ]
  },
  {
   "cell_type": "code",
   "execution_count": 9,
   "id": "dc32c748",
   "metadata": {},
   "outputs": [
    {
     "name": "stdout",
     "output_type": "stream",
     "text": [
      "mue_ce\n",
      "\n",
      "\n",
      "cec_eu\n",
      "pese\n",
      "\n",
      "\n",
      "ncru\n"
     ]
    }
   ],
   "source": [
    "#dtring slicing:type3\n",
    "a=\"computer_science\"\n",
    "print(a[2:-2:2])\n",
    "print(a[2:-2:-2])\n",
    "print(a[-2:2:2])\n",
    "print(a[-2:2:-2])\n",
    "print(a[3:-3:3])\n",
    "print(a[3:-3:-3])\n",
    "print(a[-3:3:3])\n",
    "print(a[-3:3:-3])\n"
   ]
  },
  {
   "cell_type": "code",
   "execution_count": 10,
   "id": "9642adf8",
   "metadata": {},
   "outputs": [
    {
     "name": "stdout",
     "output_type": "stream",
     "text": [
      "fraintcnl\n",
      "\n",
      "\n",
      "glnctniar\n",
      "oaothl\n",
      "\n",
      "\n",
      "onentr\n"
     ]
    }
   ],
   "source": [
    "a=\"information_technology\"\n",
    "print(a[2:-2:2])\n",
    "print(a[2:-2:-2])\n",
    "print(a[-2:2:2])\n",
    "print(a[-2:2:-2])\n",
    "print(a[3:-3:3])\n",
    "print(a[3:-3:-3])\n",
    "print(a[-3:3:3])\n",
    "print(a[-3:3:-3])\n",
    "\n"
   ]
  },
  {
   "cell_type": "code",
   "execution_count": 12,
   "id": "730b3e76",
   "metadata": {},
   "outputs": [
    {
     "name": "stdout",
     "output_type": "stream",
     "text": [
      "python\n",
      "ho\n",
      "pytho\n",
      "hon\n",
      "hon\n",
      "ytho\n"
     ]
    }
   ],
   "source": [
    "a=\"python\"\n",
    "print(a[:])\n",
    "print(a[3:5])\n",
    "print(a[:5])\n",
    "print(a[3:])\n",
    "print(a[3:100])\n",
    "print(a[-5:5])\n"
   ]
  },
  {
   "cell_type": "code",
   "execution_count": 13,
   "id": "c6b9337e",
   "metadata": {},
   "outputs": [
    {
     "name": "stdout",
     "output_type": "stream",
     "text": [
      "ton_pro\n",
      "yto\n",
      "phyton_pro\n",
      "n_pr\n",
      "yton_p\n",
      "phyton_p\n",
      "n_program\n",
      "rogr\n",
      "phyton_program\n",
      "\n"
     ]
    }
   ],
   "source": [
    "val=\"phyton_program\"\n",
    "print(val[3:10])\n",
    "print(val[2:5])\n",
    "print(val[0:10])\n",
    "print(val[5:-5])\n",
    "print(val[2:8])\n",
    "print(val[:8])\n",
    "print(val[5:])\n",
    "print(val[8:12])\n",
    "print(val[:])\n",
    "print(val[12:5])\n",
    "\n"
   ]
  },
  {
   "cell_type": "code",
   "execution_count": 15,
   "id": "42e2a8a3",
   "metadata": {},
   "outputs": [
    {
     "name": "stdout",
     "output_type": "stream",
     "text": [
      "yo_rg\n",
      "\n",
      "\n",
      "agr_o\n",
      "t_o\n",
      "\n",
      "\n",
      "rrn\n"
     ]
    }
   ],
   "source": [
    "a=\"phyton_program\"\n",
    "print(a[2:-2:2])\n",
    "print(a[2:-2:-2])\n",
    "print(a[-2:2:2])\n",
    "print(a[-2:2:-2])\n",
    "print(a[3:-3:3])\n",
    "print(a[3:-3:-3])\n",
    "print(a[-3:3:3])\n",
    "print(a[-3:3:-3])\n"
   ]
  },
  {
   "cell_type": "code",
   "execution_count": 17,
   "id": "6118cdce",
   "metadata": {},
   "outputs": [
    {
     "name": "stdout",
     "output_type": "stream",
     "text": [
      "ton_pro\n",
      "tnpo\n",
      "t_o\n",
      "n_pr\n",
      "np\n",
      "n\n",
      "po\n",
      "nrr\n",
      "pyo_rga\n",
      "\n"
     ]
    }
   ],
   "source": [
    "val=\"phyton_program\"\n",
    "print(val[3:10:1])\n",
    "print(val[3:10:2])\n",
    "print(val[3:10:3])\n",
    "print(val[5:-5:1])\n",
    "print(val[5:-5:2])\n",
    "print(val[5:-5:5])\n",
    "print(val[:8:4])\n",
    "print(val[5::3])\n",
    "print(val[::2])\n",
    "print(val[12:5:3])"
   ]
  },
  {
   "cell_type": "code",
   "execution_count": null,
   "id": "d76fb5dc",
   "metadata": {},
   "outputs": [],
   "source": []
  }
 ],
 "metadata": {
  "kernelspec": {
   "display_name": "Python 3 (ipykernel)",
   "language": "python",
   "name": "python3"
  },
  "language_info": {
   "codemirror_mode": {
    "name": "ipython",
    "version": 3
   },
   "file_extension": ".py",
   "mimetype": "text/x-python",
   "name": "python",
   "nbconvert_exporter": "python",
   "pygments_lexer": "ipython3",
   "version": "3.7.4"
  }
 },
 "nbformat": 4,
 "nbformat_minor": 5
}
